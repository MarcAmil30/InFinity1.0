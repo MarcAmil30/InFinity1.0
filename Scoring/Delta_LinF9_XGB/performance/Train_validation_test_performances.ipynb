{
 "cells": [
  {
   "cell_type": "code",
   "execution_count": 1,
   "id": "integrated-buyer",
   "metadata": {},
   "outputs": [],
   "source": [
    "import sys, os\n",
    "import time, random, pickle\n",
    "import numpy as np\n",
    "import pandas as pd\n",
    "import xgboost as xgb\n",
    "from sklearn.linear_model import LinearRegression\n",
    "from scipy import stats\n",
    "from sklearn.metrics import mean_squared_error\n",
    "from sklearn.metrics import mean_absolute_error\n",
    "import matplotlib.pyplot as plt\n",
    "from matplotlib import rcParams\n",
    "rcParams['mathtext.default'] = 'regular'\n",
    "%matplotlib inline"
   ]
  },
  {
   "cell_type": "code",
   "execution_count": 2,
   "id": "fantastic-cisco",
   "metadata": {},
   "outputs": [
    {
     "data": {
      "text/plain": [
       "'1.2.0'"
      ]
     },
     "execution_count": 2,
     "metadata": {},
     "output_type": "execute_result"
    }
   ],
   "source": [
    "xgb.__version__"
   ]
  },
  {
   "cell_type": "markdown",
   "id": "common-tribute",
   "metadata": {},
   "source": [
    "### Prepare_data"
   ]
  },
  {
   "cell_type": "code",
   "execution_count": 3,
   "id": "vocational-flooring",
   "metadata": {},
   "outputs": [],
   "source": [
    "train = pd.read_csv('../dataset/train_set.csv')\n",
    "val = pd.read_csv('../dataset/validation_set.csv')\n",
    "test = pd.read_csv('../dataset/test_set.csv') ##CASF-2016 core set\n",
    "\n",
    "train['delta'] = train['pKd'] - train['Lin_F9']\n",
    "val['delta'] = val['pKd'] - val['Lin_F9']\n",
    "test['delta'] = test['pKd'] - test['Lin_F9']"
   ]
  },
  {
   "cell_type": "code",
   "execution_count": 4,
   "id": "sharing-retirement",
   "metadata": {},
   "outputs": [
    {
     "data": {
      "text/plain": [
       "(21943, 1578, 285)"
      ]
     },
     "execution_count": 4,
     "metadata": {},
     "output_type": "execute_result"
    }
   ],
   "source": [
    "len(train), len(val), len(test)"
   ]
  },
  {
   "cell_type": "code",
   "execution_count": 5,
   "id": "passing-thumb",
   "metadata": {},
   "outputs": [
    {
     "data": {
      "text/plain": [
       "10"
      ]
     },
     "execution_count": 5,
     "metadata": {},
     "output_type": "execute_result"
    }
   ],
   "source": [
    "LigandDescriptors = ['HeavyAtomMolWt', 'NumValenceElectrons','FpDensityMorgan1', \n",
    "                     'FpDensityMorgan2', 'FpDensityMorgan3', 'LabuteASA',\n",
    "                     'TPSA', 'NHOHCount', 'NOCount','MolLogP','MolMR'] #\n",
    "\n",
    "LigandDescriptors = [x for x in LigandDescriptors if x not in ['NOCount']]\n",
    "len(LigandDescriptors)"
   ]
  },
  {
   "cell_type": "code",
   "execution_count": 6,
   "id": "celtic-grocery",
   "metadata": {},
   "outputs": [
    {
     "data": {
      "text/plain": [
       "92"
      ]
     },
     "execution_count": 6,
     "metadata": {},
     "output_type": "execute_result"
    }
   ],
   "source": [
    "f_type = [\"P\",\"N\",\"DA\",\"D\",\"A\",\"AR\",\"H\",\"PL\",\"HA\",\"SA\"]\n",
    "SASA = [\"P2.\" + i for i in f_type] + [\"P2dl.\" + i for i in f_type] + [\"P2dp.\" + i for i in f_type]\n",
    "SASA = [x for x in SASA if x not in ['P2dl.HA','P2dp.HA']]\n",
    "BW = [\"Nbw\",\"Epw\",\"Elw\"]\n",
    "\n",
    "vina1 = ['vina%d'%x for x in range(2,9)]\n",
    "vina2 = ['vina%d'%x for x in range(10,17)]\n",
    "vina3 = ['vina%d'%x for x in range(18,25)]\n",
    "vina4 = ['vina%d'%x for x in range(26,31)]\n",
    "vina5 = ['vina%d'%x for x in range(32,37)]\n",
    "vina6 = ['vina%d'%x for x in range(38,49)]\n",
    "\n",
    "vina=vina1+vina2+vina3+vina4+vina5+vina6\n",
    "\n",
    "metal = ['metal%d'%x for x in range(2,8)]\n",
    "\n",
    "columns = vina+['ligCover','betaScore','LE']+SASA+metal+LigandDescriptors+BW\n",
    "len(columns)"
   ]
  },
  {
   "cell_type": "code",
   "execution_count": 7,
   "id": "shared-boost",
   "metadata": {},
   "outputs": [],
   "source": [
    "X_train = np.c_[train[columns]]\n",
    "y_train = np.c_[train[['delta']]]\n",
    "X_train = X_train.astype(np.float64)\n",
    "y_train_fix = np.r_[train['Lin_F9']]\n",
    "y_train_const = np.r_[train['pKd']]\n",
    "\n",
    "X_val = np.c_[val[columns]]\n",
    "y_val = np.c_[val[['delta']]]\n",
    "X_val = X_val.astype(np.float64)\n",
    "y_val_fix = np.r_[val['Lin_F9']]\n",
    "y_val_const = np.r_[val['pKd']]\n",
    "\n",
    "X_test = np.c_[test[columns]]\n",
    "y_test = np.c_[test[['delta']]]\n",
    "X_test = X_test.astype(np.float64)\n",
    "y_test_fix = np.r_[test['Lin_F9']]\n",
    "y_test_const = np.r_[test['pKd']]"
   ]
  },
  {
   "cell_type": "markdown",
   "id": "apart-bulletin",
   "metadata": {},
   "source": [
    "### run XGB model"
   ]
  },
  {
   "cell_type": "code",
   "execution_count": 8,
   "id": "increased-metallic",
   "metadata": {},
   "outputs": [],
   "source": [
    "def Get_rank(df):\n",
    "    Spearman_list, Kendall_list, target, pdb = [], [], [], []\n",
    "    ss = pd.read_csv('CASF-2016.csv')\n",
    "    for i in range(1,58):\n",
    "        sa = ss.loc[ss['target']==i]\n",
    "        target.append(i)\n",
    "        pdb.append(sa.pdb.tolist())\n",
    "        de = df.loc[df['pdb'].isin(sa.pdb.tolist())]\n",
    "        Spearman_list.append(round(stats.spearmanr(de['XGB'], de['pKd'])[0],3))\n",
    "        Kendall_list.append(round(stats.kendalltau(de['XGB'], de['pKd'])[0],3))\n",
    "    return np.mean(Spearman_list), np.mean(Kendall_list)\n",
    "\n",
    "def Get_evaluation(y_test_const, y_test_predict, y_test_fix):\n",
    "    print(\"Mean squared error: %.3f\"%np.sqrt(mean_squared_error(y_test_const,y_test_predict+y_test_fix)))\n",
    "    print('Mean absolute error: %.3f'%mean_absolute_error(y_test_const, y_test_predict+y_test_fix))\n",
    "    print ('pearsonr:', (stats.pearsonr(y_test_const.ravel(), y_test_predict+y_test_fix)))\n",
    "    print ('spearmanr:', (stats.spearmanr(y_test_const, y_test_predict+y_test_fix)))\n",
    "    print ('kendall:', (stats.kendalltau(y_test_const, y_test_predict+y_test_fix)))\n",
    "    print (len(y_test_predict))"
   ]
  },
  {
   "cell_type": "markdown",
   "id": "western-radiation",
   "metadata": {},
   "source": [
    "#### 1. Training set performance"
   ]
  },
  {
   "cell_type": "code",
   "execution_count": 9,
   "id": "following-assist",
   "metadata": {},
   "outputs": [],
   "source": [
    "y_train_predict_ = []\n",
    "for i in range(1,11):\n",
    "    xgb_model = pickle.load(open(\"../saved_model/mod_%d.pickle.dat\"%i,\"rb\"))\n",
    "    y_train_i_predict = xgb_model.predict(X_train, ntree_limit=xgb_model.best_ntree_limit)\n",
    "    y_train_predict_.append(y_train_i_predict)\n",
    "\n",
    "y_train_predict = np.average(y_train_predict_, axis=0)"
   ]
  },
  {
   "cell_type": "code",
   "execution_count": 10,
   "id": "tracked-director",
   "metadata": {},
   "outputs": [
    {
     "name": "stdout",
     "output_type": "stream",
     "text": [
      "Mean squared error: 0.051\n",
      "Mean absolute error: 0.035\n",
      "pearsonr: (0.9998471694297933, 0.0)\n",
      "spearmanr: SpearmanrResult(correlation=0.9998248108567666, pvalue=0.0)\n",
      "kendall: KendalltauResult(correlation=0.9899940387062343, pvalue=0.0)\n",
      "21943\n"
     ]
    }
   ],
   "source": [
    "Get_evaluation(y_train_const, y_train_predict, y_train_fix)"
   ]
  },
  {
   "cell_type": "markdown",
   "id": "brazilian-rhythm",
   "metadata": {},
   "source": [
    "#### 2. Validation set performance"
   ]
  },
  {
   "cell_type": "code",
   "execution_count": 11,
   "id": "african-cigarette",
   "metadata": {},
   "outputs": [],
   "source": [
    "y_val_predict_ = []\n",
    "for i in range(1,11):\n",
    "    xgb_model = pickle.load(open(\"../saved_model/mod_%d.pickle.dat\"%i,\"rb\"))\n",
    "    y_val_i_predict = xgb_model.predict(X_val, ntree_limit=xgb_model.best_ntree_limit)\n",
    "    y_val_predict_.append(y_val_i_predict)\n",
    "\n",
    "y_val_predict = np.average(y_val_predict_, axis=0)"
   ]
  },
  {
   "cell_type": "code",
   "execution_count": 12,
   "id": "outside-wrong",
   "metadata": {},
   "outputs": [
    {
     "name": "stdout",
     "output_type": "stream",
     "text": [
      "Mean squared error: 1.448\n",
      "Mean absolute error: 1.146\n",
      "pearsonr: (0.7888132520408538, 0.0)\n",
      "spearmanr: SpearmanrResult(correlation=0.7846378355011225, pvalue=0.0)\n",
      "kendall: KendalltauResult(correlation=0.5908678290108726, pvalue=8.703285646107665e-270)\n",
      "1578\n"
     ]
    }
   ],
   "source": [
    "Get_evaluation(y_val_const, y_val_predict, y_val_fix)"
   ]
  },
  {
   "cell_type": "markdown",
   "id": "biological-tours",
   "metadata": {},
   "source": [
    "#### 3. Test performance (CASF-2016 benchmark)"
   ]
  },
  {
   "cell_type": "code",
   "execution_count": 13,
   "id": "built-planner",
   "metadata": {},
   "outputs": [],
   "source": [
    "y_test_predict_ = []\n",
    "for i in range(1,11):\n",
    "    xgb_model = pickle.load(open(\"../saved_model/mod_%d.pickle.dat\"%i,\"rb\"))\n",
    "    y_test_i_predict = xgb_model.predict(X_test, ntree_limit=xgb_model.best_ntree_limit)\n",
    "    y_test_predict_.append(y_test_i_predict)\n",
    "\n",
    "y_test_predict = np.average(y_test_predict_, axis=0)"
   ]
  },
  {
   "cell_type": "code",
   "execution_count": 14,
   "id": "polar-knitting",
   "metadata": {},
   "outputs": [
    {
     "name": "stdout",
     "output_type": "stream",
     "text": [
      "Mean squared error: 1.240\n",
      "Mean absolute error: 0.967\n",
      "pearsonr: (0.8452735115990057, 5.236674331721536e-79)\n",
      "spearmanr: SpearmanrResult(correlation=0.8426996683128004, pvalue=4.450761495306719e-78)\n",
      "kendall: KendalltauResult(correlation=0.6532766452960354, pvalue=1.2726079010484372e-60)\n",
      "285\n"
     ]
    }
   ],
   "source": [
    "Get_evaluation(y_test_const, y_test_predict, y_test_fix)"
   ]
  },
  {
   "cell_type": "code",
   "execution_count": 15,
   "id": "north-tonight",
   "metadata": {},
   "outputs": [],
   "source": [
    "test['XGB'] = pd.Series(y_test_predict+y_test_fix, index=test.index)"
   ]
  },
  {
   "cell_type": "code",
   "execution_count": 16,
   "id": "finite-productivity",
   "metadata": {},
   "outputs": [
    {
     "data": {
      "text/plain": [
       "(0.7035087719298247, 0.6245614035087719)"
      ]
     },
     "execution_count": 16,
     "metadata": {},
     "output_type": "execute_result"
    }
   ],
   "source": [
    "Get_rank(test)"
   ]
  },
  {
   "cell_type": "code",
   "execution_count": 17,
   "id": "nominated-plenty",
   "metadata": {},
   "outputs": [
    {
     "data": {
      "text/plain": [
       "26"
      ]
     },
     "execution_count": 17,
     "metadata": {},
     "output_type": "execute_result"
    }
   ],
   "source": [
    "test['delta1'] = abs(test['XGB']-test['pKd'])\n",
    "len(test.loc[test['delta1']>2])"
   ]
  },
  {
   "cell_type": "code",
   "execution_count": 18,
   "id": "engaged-criticism",
   "metadata": {},
   "outputs": [
    {
     "data": {
      "text/plain": [
       "<matplotlib.legend.Legend at 0x7f63f43e3070>"
      ]
     },
     "execution_count": 18,
     "metadata": {},
     "output_type": "execute_result"
    },
    {
     "data": {
      "image/png": "[encoded data removed]",
      "text/plain": [
       "<Figure size 576x576 with 1 Axes>"
      ]
     },
     "metadata": {
      "needs_background": "light"
     },
     "output_type": "display_data"
    }
   ],
   "source": [
    "from sklearn.linear_model import LinearRegression\n",
    "\n",
    "lm = LinearRegression()\n",
    "lm.fit(np.c_[test['pKd']], np.c_[test['XGB']])\n",
    "a0 = lm.intercept_\n",
    "a1 = lm.coef_[0]\n",
    "X1 = np.arange(1,12,0.2)\n",
    "Y1 = a0 + a1*X1\n",
    "\n",
    "test1 = test.loc[test['delta1']<=2]\n",
    "test2 = test.loc[test['delta1']>2]\n",
    "plt.figure(figsize=[8,8])\n",
    "plt.scatter(test1['pKd'], test1['XGB'],s=60,edgecolors='k', alpha=0.6, color='#F5560E')\n",
    "plt.scatter(test2['pKd'], test2['XGB'],s=60, edgecolors='k',alpha=0.6, color='#F28350',label='AE > 2',marker='x')\n",
    "plt.plot(X1,Y1, color='r')\n",
    "font = {'family': 'serif',\n",
    "        'color':  'darkred',\n",
    "        'weight': 'normal',\n",
    "        'size': 17,\n",
    "        }\n",
    "font1 = {'family': 'serif',\n",
    "        'color':  'k',\n",
    "        'weight': 'normal',\n",
    "        'size': 18,\n",
    "        }\n",
    "plt.xlabel(r'pK$_d$', fontdict=font)\n",
    "plt.ylabel(r'$\\Delta_{LinF9}$XGB', fontdict=font)\n",
    "plt.xlim(0,14)\n",
    "plt.ylim(0,14)\n",
    "plt.plot(np.arange(1.5,12), np.arange(1.5,12), color='k',linestyle = 'dashed')\n",
    "plt.title('Crystal pose (C)', fontdict=font1)\n",
    "plt.text(8,1.8,'Slope=%.2f'%a1, fontsize=14, color='r')\n",
    "plt.text(8,1.2,'Pearson R=0.85', fontsize=14, color='k')\n",
    "plt.text(8,0.6,'RMSE=1.24', fontsize=14, color='k')\n",
    "plt.xticks(fontsize=15)\n",
    "plt.yticks(fontsize=15)\n",
    "plt.legend(loc='upper left', fontsize=14)\n",
    "#plt.savefig('/home/cyang/job/XGB_figure/scatter/fig1D.png',dpi=400, format='png',bbox_inches='tight')"
   ]
  },
  {
   "cell_type": "code",
   "execution_count": null,
   "id": "formal-brief",
   "metadata": {},
   "outputs": [],
   "source": []
  }
 ],
 "metadata": {
  "kernelspec": {
   "display_name": "Python 3 (ipykernel)",
   "language": "python",
   "name": "python3"
  },
  "language_info": {
   "codemirror_mode": {
    "name": "ipython",
    "version": 3
   },
   "file_extension": ".py",
   "mimetype": "text/x-python",
   "name": "python",
   "nbconvert_exporter": "python",
   "pygments_lexer": "ipython3",
   "version": "3.9.12"
  }
 },
 "nbformat": 4,
 "nbformat_minor": 5
}
